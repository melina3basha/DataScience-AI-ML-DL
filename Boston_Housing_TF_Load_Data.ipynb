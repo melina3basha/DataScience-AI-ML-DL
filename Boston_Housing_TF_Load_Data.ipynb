{
  "nbformat": 4,
  "nbformat_minor": 0,
  "metadata": {
    "colab": {
      "provenance": []
    },
    "kernelspec": {
      "name": "python3",
      "display_name": "Python 3"
    },
    "language_info": {
      "name": "python"
    }
  },
  "cells": [
    {
      "cell_type": "code",
      "execution_count": 1,
      "metadata": {
        "id": "tmakQpNfYwgb"
      },
      "outputs": [],
      "source": [
        "import tensorflow as tf\n",
        "import matplotlib.pyplot as plt"
      ]
    },
    {
      "cell_type": "code",
      "source": [
        "\n",
        "(train_data, train_target), (test_data, test_target) = tf.keras.datasets.boston_housing.load_data(\n",
        "    path='boston_housing.npz', test_split=0.2, seed=113\n",
        ")"
      ],
      "metadata": {
        "colab": {
          "base_uri": "https://localhost:8080/"
        },
        "id": "X0I1CUa6Yw8h",
        "outputId": "056f6c9b-1eab-49d1-ce09-e44167405416"
      },
      "execution_count": 2,
      "outputs": [
        {
          "output_type": "stream",
          "name": "stdout",
          "text": [
            "Downloading data from https://storage.googleapis.com/tensorflow/tf-keras-datasets/boston_housing.npz\n",
            "57026/57026 [==============================] - 0s 0us/step\n"
          ]
        }
      ]
    },
    {
      "cell_type": "code",
      "source": [
        "len(train_data), len(test_data)"
      ],
      "metadata": {
        "colab": {
          "base_uri": "https://localhost:8080/"
        },
        "id": "MOF5G7rkYw_W",
        "outputId": "48af3f0f-fda1-4b8f-f96e-5493d53cd47e"
      },
      "execution_count": 3,
      "outputs": [
        {
          "output_type": "execute_result",
          "data": {
            "text/plain": [
              "(404, 102)"
            ]
          },
          "metadata": {},
          "execution_count": 3
        }
      ]
    },
    {
      "cell_type": "code",
      "source": [
        "404/506"
      ],
      "metadata": {
        "colab": {
          "base_uri": "https://localhost:8080/"
        },
        "id": "_0MWE6hwYxB9",
        "outputId": "94421878-f9cd-494a-b469-a2c2ab11aa1c"
      },
      "execution_count": 4,
      "outputs": [
        {
          "output_type": "execute_result",
          "data": {
            "text/plain": [
              "0.7984189723320159"
            ]
          },
          "metadata": {},
          "execution_count": 4
        }
      ]
    },
    {
      "cell_type": "code",
      "source": [
        "# take a look at the data\n",
        "\n",
        "print(f'Training data : {train_data.shape}')\n",
        "print(f'Test data : {test_data.shape}')\n",
        "print(f'Training sample : {train_data[0]}')\n",
        "print(f'Training target sample : {train_target[0]}')"
      ],
      "metadata": {
        "colab": {
          "base_uri": "https://localhost:8080/"
        },
        "id": "COkZfmffbCEJ",
        "outputId": "a21f1ac9-5669-4b5f-8cee-91fc70afd7f5"
      },
      "execution_count": 5,
      "outputs": [
        {
          "output_type": "stream",
          "name": "stdout",
          "text": [
            "Training data : (404, 13)\n",
            "Test data : (102, 13)\n",
            "Training sample : [  1.23247   0.        8.14      0.        0.538     6.142    91.7\n",
            "   3.9769    4.      307.       21.      396.9      18.72   ]\n",
            "Training target sample : 15.2\n"
          ]
        }
      ]
    },
    {
      "cell_type": "markdown",
      "source": [
        " **Pre-processing the data**\n",
        "\n",
        " We are going to do a feature normalization . Feature normalizaion is when you subtract the mean of the feature from each feature and divide each result by the standard deviation.\n",
        " ???\n",
        "\n",
        " In fact this is **Standardization** not Normalization.\n"
      ],
      "metadata": {
        "id": "7f6E_6O4byLd"
      }
    },
    {
      "cell_type": "code",
      "source": [
        "mean = train_data.mean(axis=0)\n",
        "train_data -= mean\n",
        "std = train_data.std(axis=0)\n",
        "train_data /= std\n",
        "\n",
        "test_data -= mean\n",
        "test_data /= std\n",
        "\n",
        "# Note that the quantities used for normalizing the test data are computed using the\n",
        "# training data. You should never use in your workflow any quantity computed on the\n",
        "# test data, even for something as simple as data normalization."
      ],
      "metadata": {
        "id": "XRfd-Oscdmmn"
      },
      "execution_count": 6,
      "outputs": []
    },
    {
      "cell_type": "code",
      "source": [],
      "metadata": {
        "id": "Jk1VIPB9dmx0"
      },
      "execution_count": 6,
      "outputs": []
    },
    {
      "cell_type": "code",
      "source": [],
      "metadata": {
        "id": "sftAeKZzdm2U"
      },
      "execution_count": 6,
      "outputs": []
    },
    {
      "cell_type": "code",
      "source": [
        "# Build a neural network model to fit on our standardized data\n",
        "\n",
        "# Set the seed\n",
        "tf.random.set_seed(42)\n",
        "\n",
        "# 1. Create the model\n",
        "model = tf.keras.Sequential([\n",
        "    tf.keras.layers.Dense(64, activation='relu'), #, input_shape=(train_data.shape[1])),\n",
        "    tf.keras.layers.Dense(64, activation='relu'),\n",
        "    tf.keras.layers.Dense(1)\n",
        "])\n",
        "\n",
        "# 2. Compile the model\n",
        "model.compile(loss=tf.keras.losses.mae,\n",
        "              optimizer=tf.keras.optimizers.Adam(),\n",
        "              metrics=['mae'])\n",
        "\n",
        "#3. Fit the model\n",
        "history = model.fit(train_data, train_target, epochs=80, batch_size=16)"
      ],
      "metadata": {
        "colab": {
          "base_uri": "https://localhost:8080/"
        },
        "id": "ls_zfDPEYxEy",
        "outputId": "360d593d-8774-4640-a6bf-a6d49e23fcf9"
      },
      "execution_count": 7,
      "outputs": [
        {
          "output_type": "stream",
          "name": "stdout",
          "text": [
            "Epoch 1/80\n",
            "26/26 [==============================] - 2s 4ms/step - loss: 21.6778 - mae: 21.6778\n",
            "Epoch 2/80\n",
            "26/26 [==============================] - 0s 4ms/step - loss: 18.7578 - mae: 18.7578\n",
            "Epoch 3/80\n",
            "26/26 [==============================] - 0s 4ms/step - loss: 13.3195 - mae: 13.3195\n",
            "Epoch 4/80\n",
            "26/26 [==============================] - 0s 4ms/step - loss: 7.9082 - mae: 7.9082\n",
            "Epoch 5/80\n",
            "26/26 [==============================] - 0s 3ms/step - loss: 6.0221 - mae: 6.0221\n",
            "Epoch 6/80\n",
            "26/26 [==============================] - 0s 6ms/step - loss: 4.3852 - mae: 4.3852\n",
            "Epoch 7/80\n",
            "26/26 [==============================] - 0s 5ms/step - loss: 3.5734 - mae: 3.5734\n",
            "Epoch 8/80\n",
            "26/26 [==============================] - 0s 10ms/step - loss: 3.3644 - mae: 3.3644\n",
            "Epoch 9/80\n",
            "26/26 [==============================] - 0s 6ms/step - loss: 3.0474 - mae: 3.0474\n",
            "Epoch 10/80\n",
            "26/26 [==============================] - 0s 6ms/step - loss: 2.8962 - mae: 2.8962\n",
            "Epoch 11/80\n",
            "26/26 [==============================] - 0s 6ms/step - loss: 2.7930 - mae: 2.7930\n",
            "Epoch 12/80\n",
            "26/26 [==============================] - 0s 5ms/step - loss: 2.6300 - mae: 2.6300\n",
            "Epoch 13/80\n",
            "26/26 [==============================] - 0s 5ms/step - loss: 2.5817 - mae: 2.5817\n",
            "Epoch 14/80\n",
            "26/26 [==============================] - 0s 5ms/step - loss: 2.4665 - mae: 2.4665\n",
            "Epoch 15/80\n",
            "26/26 [==============================] - 0s 3ms/step - loss: 2.3583 - mae: 2.3583\n",
            "Epoch 16/80\n",
            "26/26 [==============================] - 0s 4ms/step - loss: 2.3634 - mae: 2.3634\n",
            "Epoch 17/80\n",
            "26/26 [==============================] - 0s 3ms/step - loss: 2.3123 - mae: 2.3123\n",
            "Epoch 18/80\n",
            "26/26 [==============================] - 0s 3ms/step - loss: 2.2647 - mae: 2.2647\n",
            "Epoch 19/80\n",
            "26/26 [==============================] - 0s 6ms/step - loss: 2.2181 - mae: 2.2181\n",
            "Epoch 20/80\n",
            "26/26 [==============================] - 0s 7ms/step - loss: 2.2269 - mae: 2.2269\n",
            "Epoch 21/80\n",
            "26/26 [==============================] - 0s 5ms/step - loss: 2.1940 - mae: 2.1940\n",
            "Epoch 22/80\n",
            "26/26 [==============================] - 0s 6ms/step - loss: 2.1527 - mae: 2.1527\n",
            "Epoch 23/80\n",
            "26/26 [==============================] - 0s 3ms/step - loss: 2.1819 - mae: 2.1819\n",
            "Epoch 24/80\n",
            "26/26 [==============================] - 0s 3ms/step - loss: 2.1209 - mae: 2.1209\n",
            "Epoch 25/80\n",
            "26/26 [==============================] - 0s 4ms/step - loss: 2.0968 - mae: 2.0968\n",
            "Epoch 26/80\n",
            "26/26 [==============================] - 0s 3ms/step - loss: 2.0825 - mae: 2.0825\n",
            "Epoch 27/80\n",
            "26/26 [==============================] - 0s 3ms/step - loss: 2.0432 - mae: 2.0432\n",
            "Epoch 28/80\n",
            "26/26 [==============================] - 0s 4ms/step - loss: 2.0317 - mae: 2.0317\n",
            "Epoch 29/80\n",
            "26/26 [==============================] - 0s 6ms/step - loss: 2.0867 - mae: 2.0867\n",
            "Epoch 30/80\n",
            "26/26 [==============================] - 0s 7ms/step - loss: 2.0204 - mae: 2.0204\n",
            "Epoch 31/80\n",
            "26/26 [==============================] - 0s 7ms/step - loss: 1.9793 - mae: 1.9793\n",
            "Epoch 32/80\n",
            "26/26 [==============================] - 0s 5ms/step - loss: 2.0009 - mae: 2.0009\n",
            "Epoch 33/80\n",
            "26/26 [==============================] - 0s 6ms/step - loss: 1.9563 - mae: 1.9563\n",
            "Epoch 34/80\n",
            "26/26 [==============================] - 0s 5ms/step - loss: 1.9795 - mae: 1.9795\n",
            "Epoch 35/80\n",
            "26/26 [==============================] - 0s 3ms/step - loss: 1.9527 - mae: 1.9527\n",
            "Epoch 36/80\n",
            "26/26 [==============================] - 0s 2ms/step - loss: 1.9309 - mae: 1.9309\n",
            "Epoch 37/80\n",
            "26/26 [==============================] - 0s 2ms/step - loss: 1.9123 - mae: 1.9123\n",
            "Epoch 38/80\n",
            "26/26 [==============================] - 0s 2ms/step - loss: 1.9019 - mae: 1.9019\n",
            "Epoch 39/80\n",
            "26/26 [==============================] - 0s 2ms/step - loss: 1.9319 - mae: 1.9319\n",
            "Epoch 40/80\n",
            "26/26 [==============================] - 0s 2ms/step - loss: 1.8992 - mae: 1.8992\n",
            "Epoch 41/80\n",
            "26/26 [==============================] - 0s 2ms/step - loss: 1.8670 - mae: 1.8670\n",
            "Epoch 42/80\n",
            "26/26 [==============================] - 0s 2ms/step - loss: 1.8360 - mae: 1.8360\n",
            "Epoch 43/80\n",
            "26/26 [==============================] - 0s 2ms/step - loss: 1.8351 - mae: 1.8351\n",
            "Epoch 44/80\n",
            "26/26 [==============================] - 0s 2ms/step - loss: 1.8540 - mae: 1.8540\n",
            "Epoch 45/80\n",
            "26/26 [==============================] - 0s 2ms/step - loss: 1.8484 - mae: 1.8484\n",
            "Epoch 46/80\n",
            "26/26 [==============================] - 0s 3ms/step - loss: 1.8313 - mae: 1.8313\n",
            "Epoch 47/80\n",
            "26/26 [==============================] - 0s 2ms/step - loss: 1.8570 - mae: 1.8570\n",
            "Epoch 48/80\n",
            "26/26 [==============================] - 0s 2ms/step - loss: 1.7665 - mae: 1.7665\n",
            "Epoch 49/80\n",
            "26/26 [==============================] - 0s 2ms/step - loss: 1.7823 - mae: 1.7823\n",
            "Epoch 50/80\n",
            "26/26 [==============================] - 0s 3ms/step - loss: 1.7716 - mae: 1.7716\n",
            "Epoch 51/80\n",
            "26/26 [==============================] - 0s 2ms/step - loss: 1.7288 - mae: 1.7288\n",
            "Epoch 52/80\n",
            "26/26 [==============================] - 0s 2ms/step - loss: 1.7374 - mae: 1.7374\n",
            "Epoch 53/80\n",
            "26/26 [==============================] - 0s 2ms/step - loss: 1.7617 - mae: 1.7617\n",
            "Epoch 54/80\n",
            "26/26 [==============================] - 0s 2ms/step - loss: 1.7096 - mae: 1.7096\n",
            "Epoch 55/80\n",
            "26/26 [==============================] - 0s 2ms/step - loss: 1.7137 - mae: 1.7137\n",
            "Epoch 56/80\n",
            "26/26 [==============================] - 0s 4ms/step - loss: 1.6941 - mae: 1.6941\n",
            "Epoch 57/80\n",
            "26/26 [==============================] - 0s 4ms/step - loss: 1.7093 - mae: 1.7093\n",
            "Epoch 58/80\n",
            "26/26 [==============================] - 0s 3ms/step - loss: 1.7047 - mae: 1.7047\n",
            "Epoch 59/80\n",
            "26/26 [==============================] - 0s 3ms/step - loss: 1.6964 - mae: 1.6964\n",
            "Epoch 60/80\n",
            "26/26 [==============================] - 0s 3ms/step - loss: 1.6950 - mae: 1.6950\n",
            "Epoch 61/80\n",
            "26/26 [==============================] - 0s 4ms/step - loss: 1.6792 - mae: 1.6792\n",
            "Epoch 62/80\n",
            "26/26 [==============================] - 0s 4ms/step - loss: 1.6989 - mae: 1.6989\n",
            "Epoch 63/80\n",
            "26/26 [==============================] - 0s 3ms/step - loss: 1.6724 - mae: 1.6724\n",
            "Epoch 64/80\n",
            "26/26 [==============================] - 0s 3ms/step - loss: 1.6384 - mae: 1.6384\n",
            "Epoch 65/80\n",
            "26/26 [==============================] - 0s 3ms/step - loss: 1.6190 - mae: 1.6190\n",
            "Epoch 66/80\n",
            "26/26 [==============================] - 0s 3ms/step - loss: 1.6394 - mae: 1.6394\n",
            "Epoch 67/80\n",
            "26/26 [==============================] - 0s 3ms/step - loss: 1.6185 - mae: 1.6185\n",
            "Epoch 68/80\n",
            "26/26 [==============================] - 0s 3ms/step - loss: 1.6434 - mae: 1.6434\n",
            "Epoch 69/80\n",
            "26/26 [==============================] - 0s 3ms/step - loss: 1.6415 - mae: 1.6415\n",
            "Epoch 70/80\n",
            "26/26 [==============================] - 0s 3ms/step - loss: 1.6351 - mae: 1.6351\n",
            "Epoch 71/80\n",
            "26/26 [==============================] - 0s 3ms/step - loss: 1.6760 - mae: 1.6760\n",
            "Epoch 72/80\n",
            "26/26 [==============================] - 0s 3ms/step - loss: 1.6212 - mae: 1.6212\n",
            "Epoch 73/80\n",
            "26/26 [==============================] - 0s 3ms/step - loss: 1.5794 - mae: 1.5794\n",
            "Epoch 74/80\n",
            "26/26 [==============================] - 0s 3ms/step - loss: 1.5620 - mae: 1.5620\n",
            "Epoch 75/80\n",
            "26/26 [==============================] - 0s 3ms/step - loss: 1.6010 - mae: 1.6010\n",
            "Epoch 76/80\n",
            "26/26 [==============================] - 0s 3ms/step - loss: 1.5725 - mae: 1.5725\n",
            "Epoch 77/80\n",
            "26/26 [==============================] - 0s 4ms/step - loss: 1.6177 - mae: 1.6177\n",
            "Epoch 78/80\n",
            "26/26 [==============================] - 0s 3ms/step - loss: 1.5772 - mae: 1.5772\n",
            "Epoch 79/80\n",
            "26/26 [==============================] - 0s 4ms/step - loss: 1.5513 - mae: 1.5513\n",
            "Epoch 80/80\n",
            "26/26 [==============================] - 0s 3ms/step - loss: 1.5112 - mae: 1.5112\n"
          ]
        }
      ]
    },
    {
      "cell_type": "code",
      "source": [
        "# Evaluate our model on normalized data\n",
        "model.evaluate(test_data, test_target)"
      ],
      "metadata": {
        "colab": {
          "base_uri": "https://localhost:8080/"
        },
        "id": "Z34rmE7cYxHK",
        "outputId": "c20b5687-a77e-4418-814d-aec10d4e0469"
      },
      "execution_count": 8,
      "outputs": [
        {
          "output_type": "stream",
          "name": "stdout",
          "text": [
            "4/4 [==============================] - 0s 3ms/step - loss: 2.5699 - mae: 2.5699\n"
          ]
        },
        {
          "output_type": "execute_result",
          "data": {
            "text/plain": [
              "[2.5699188709259033, 2.5699188709259033]"
            ]
          },
          "metadata": {},
          "execution_count": 8
        }
      ]
    },
    {
      "cell_type": "code",
      "source": [
        "model.summary()"
      ],
      "metadata": {
        "colab": {
          "base_uri": "https://localhost:8080/"
        },
        "id": "-BRipxvlYxKH",
        "outputId": "166ac268-3a8a-4b8c-99a1-417ced2b5430"
      },
      "execution_count": 9,
      "outputs": [
        {
          "output_type": "stream",
          "name": "stdout",
          "text": [
            "Model: \"sequential\"\n",
            "_________________________________________________________________\n",
            " Layer (type)                Output Shape              Param #   \n",
            "=================================================================\n",
            " dense (Dense)               (None, 64)                896       \n",
            "                                                                 \n",
            " dense_1 (Dense)             (None, 64)                4160      \n",
            "                                                                 \n",
            " dense_2 (Dense)             (None, 1)                 65        \n",
            "                                                                 \n",
            "=================================================================\n",
            "Total params: 5121 (20.00 KB)\n",
            "Trainable params: 5121 (20.00 KB)\n",
            "Non-trainable params: 0 (0.00 Byte)\n",
            "_________________________________________________________________\n"
          ]
        }
      ]
    },
    {
      "cell_type": "code",
      "source": [
        "# Plot history (also known as loss curve or a training curve)\n",
        "import pandas as pd\n",
        "\n",
        "pd.DataFrame(history.history).plot()\n",
        "plt.ylabel('loss')\n",
        "plt.xlabel('epochs')"
      ],
      "metadata": {
        "colab": {
          "base_uri": "https://localhost:8080/",
          "height": 469
        },
        "id": "gvyRrOlxYxM8",
        "outputId": "f9337ea9-b3ea-4692-f9b9-56954d42ae08"
      },
      "execution_count": 10,
      "outputs": [
        {
          "output_type": "execute_result",
          "data": {
            "text/plain": [
              "Text(0.5, 0, 'epochs')"
            ]
          },
          "metadata": {},
          "execution_count": 10
        },
        {
          "output_type": "display_data",
          "data": {
            "text/plain": [
              "<Figure size 640x480 with 1 Axes>"
            ],
            "image/png": "[encoded data removed]"
          },
          "metadata": {}
        }
      ]
    },
    {
      "cell_type": "code",
      "source": [
        "y_pred = model.predict(test_data)\n",
        "y_pred"
      ],
      "metadata": {
        "colab": {
          "base_uri": "https://localhost:8080/"
        },
        "id": "jPg9Rp6eYxPt",
        "outputId": "dfb2ac9c-f565-4dd4-bb80-c931208f2749"
      },
      "execution_count": 11,
      "outputs": [
        {
          "output_type": "stream",
          "name": "stdout",
          "text": [
            "4/4 [==============================] - 0s 3ms/step\n"
          ]
        },
        {
          "output_type": "execute_result",
          "data": {
            "text/plain": [
              "array([[ 7.7035813],\n",
              "       [18.853115 ],\n",
              "       [20.806824 ],\n",
              "       [30.913553 ],\n",
              "       [23.641762 ],\n",
              "       [21.551247 ],\n",
              "       [27.1882   ],\n",
              "       [21.700897 ],\n",
              "       [19.509964 ],\n",
              "       [21.89675  ],\n",
              "       [15.60053  ],\n",
              "       [17.230793 ],\n",
              "       [16.64558  ],\n",
              "       [41.55993  ],\n",
              "       [18.616402 ],\n",
              "       [19.746521 ],\n",
              "       [25.746838 ],\n",
              "       [19.24387  ],\n",
              "       [18.93254  ],\n",
              "       [27.091698 ],\n",
              "       [12.082946 ],\n",
              "       [13.982168 ],\n",
              "       [20.706272 ],\n",
              "       [15.532527 ],\n",
              "       [19.187366 ],\n",
              "       [22.432213 ],\n",
              "       [27.692122 ],\n",
              "       [28.64474  ],\n",
              "       [10.968007 ],\n",
              "       [19.722012 ],\n",
              "       [20.197796 ],\n",
              "       [14.240799 ],\n",
              "       [32.214977 ],\n",
              "       [23.910778 ],\n",
              "       [17.631752 ],\n",
              "       [ 8.730778 ],\n",
              "       [16.610916 ],\n",
              "       [18.38167  ],\n",
              "       [19.37829  ],\n",
              "       [25.995506 ],\n",
              "       [29.963196 ],\n",
              "       [25.920414 ],\n",
              "       [12.59987  ],\n",
              "       [41.570343 ],\n",
              "       [28.737202 ],\n",
              "       [24.609062 ],\n",
              "       [26.985054 ],\n",
              "       [18.868385 ],\n",
              "       [22.645664 ],\n",
              "       [23.055735 ],\n",
              "       [34.79792  ],\n",
              "       [19.161083 ],\n",
              "       [12.257349 ],\n",
              "       [13.820671 ],\n",
              "       [35.378216 ],\n",
              "       [27.180336 ],\n",
              "       [10.977877 ],\n",
              "       [48.9791   ],\n",
              "       [32.39691  ],\n",
              "       [23.36692  ],\n",
              "       [25.08665  ],\n",
              "       [15.221211 ],\n",
              "       [14.035093 ],\n",
              "       [20.28702  ],\n",
              "       [23.502703 ],\n",
              "       [21.019272 ],\n",
              "       [13.556508 ],\n",
              "       [22.48229  ],\n",
              "       [14.009105 ],\n",
              "       [ 6.179916 ],\n",
              "       [26.937553 ],\n",
              "       [28.635311 ],\n",
              "       [23.318901 ],\n",
              "       [13.63602  ],\n",
              "       [25.029915 ],\n",
              "       [18.03788  ],\n",
              "       [18.98713  ],\n",
              "       [24.542574 ],\n",
              "       [34.685772 ],\n",
              "       [11.415192 ],\n",
              "       [20.136574 ],\n",
              "       [37.45098  ],\n",
              "       [15.481878 ],\n",
              "       [12.215339 ],\n",
              "       [18.354515 ],\n",
              "       [17.992119 ],\n",
              "       [17.856647 ],\n",
              "       [20.270252 ],\n",
              "       [22.720127 ],\n",
              "       [29.198494 ],\n",
              "       [19.92011  ],\n",
              "       [18.35569  ],\n",
              "       [25.507233 ],\n",
              "       [40.710014 ],\n",
              "       [34.984013 ],\n",
              "       [20.565994 ],\n",
              "       [34.66155  ],\n",
              "       [51.784817 ],\n",
              "       [25.038628 ],\n",
              "       [45.597866 ],\n",
              "       [28.652782 ],\n",
              "       [21.24837  ]], dtype=float32)"
            ]
          },
          "metadata": {},
          "execution_count": 11
        }
      ]
    },
    {
      "cell_type": "code",
      "source": [
        "test_target"
      ],
      "metadata": {
        "colab": {
          "base_uri": "https://localhost:8080/"
        },
        "id": "XDmJMRKdio4o",
        "outputId": "6760c61d-2662-473b-c837-b0682f13ee80"
      },
      "execution_count": 12,
      "outputs": [
        {
          "output_type": "execute_result",
          "data": {
            "text/plain": [
              "array([ 7.2, 18.8, 19. , 27. , 22.2, 24.5, 31.2, 22.9, 20.5, 23.2, 18.6,\n",
              "       14.5, 17.8, 50. , 20.8, 24.3, 24.2, 19.8, 19.1, 22.7, 12. , 10.2,\n",
              "       20. , 18.5, 20.9, 23. , 27.5, 30.1,  9.5, 22. , 21.2, 14.1, 33.1,\n",
              "       23.4, 20.1,  7.4, 15.4, 23.8, 20.1, 24.5, 33. , 28.4, 14.1, 46.7,\n",
              "       32.5, 29.6, 28.4, 19.8, 20.2, 25. , 35.4, 20.3,  9.7, 14.5, 34.9,\n",
              "       26.6,  7.2, 50. , 32.4, 21.6, 29.8, 13.1, 27.5, 21.2, 23.1, 21.9,\n",
              "       13. , 23.2,  8.1,  5.6, 21.7, 29.6, 19.6,  7. , 26.4, 18.9, 20.9,\n",
              "       28.1, 35.4, 10.2, 24.3, 43.1, 17.6, 15.4, 16.2, 27.1, 21.4, 21.5,\n",
              "       22.4, 25. , 16.6, 18.6, 22. , 42.8, 35.1, 21.5, 36. , 21.9, 24.1,\n",
              "       50. , 26.7, 25. ])"
            ]
          },
          "metadata": {},
          "execution_count": 12
        }
      ]
    },
    {
      "cell_type": "code",
      "source": [],
      "metadata": {
        "id": "AImHLX8Iio7k"
      },
      "execution_count": 12,
      "outputs": []
    },
    {
      "cell_type": "code",
      "source": [],
      "metadata": {
        "id": "enkwUaIKio-0"
      },
      "execution_count": 12,
      "outputs": []
    },
    {
      "cell_type": "code",
      "source": [],
      "metadata": {
        "id": "Odk8d81BipBo"
      },
      "execution_count": 12,
      "outputs": []
    },
    {
      "cell_type": "code",
      "source": [],
      "metadata": {
        "id": "HkpduYhIipFN"
      },
      "execution_count": 12,
      "outputs": []
    },
    {
      "cell_type": "code",
      "source": [],
      "metadata": {
        "id": "bgGMnSAfipIu"
      },
      "execution_count": 12,
      "outputs": []
    },
    {
      "cell_type": "code",
      "source": [],
      "metadata": {
        "id": "gLuFGsVtYxVH"
      },
      "execution_count": 12,
      "outputs": []
    }
  ]
}